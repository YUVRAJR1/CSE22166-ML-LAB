{
 "cells": [
  {
   "cell_type": "code",
   "execution_count": 3,
   "id": "91062b54-b868-4b7f-bd1d-c67525ff7f51",
   "metadata": {},
   "outputs": [
    {
     "name": "stdin",
     "output_type": "stream",
     "text": [
      "Enter a string:  Yuvraj\n"
     ]
    },
    {
     "name": "stdout",
     "output_type": "stream",
     "text": [
      "Number of vowels: 2\n",
      "Number of consonants: 4\n"
     ]
    }
   ],
   "source": [
    "\"\"\"\n",
    "Question 1\n",
    "Write a program to count the number of vowels and consonants present in an input string\n",
    "\"\"\"  \n",
    "def countOf(user_input):\n",
    "    vowels = \"aeiouAEIOU\"\n",
    "    num_vowels = 0\n",
    "    num_consonants = 0\n",
    "\n",
    "    for char in user_input:\n",
    "        if char in vowels:\n",
    "            num_vowels += 1\n",
    "            continue\n",
    "        num_consonants += 1\n",
    "\n",
    "    return num_vowels, num_consonants\n",
    "\n",
    "#main\n",
    "user_input = input(\"Enter a string: \")\n",
    "vowels, consonants = countOf(user_input)\n",
    "print(f\"Number of vowels: {vowels}\")\n",
    "print(f\"Number of consonants: {consonants}\")\n"
   ]
  },
  {
   "cell_type": "code",
   "execution_count": 5,
   "id": "b9e6fa8c-c196-4483-861e-aefb5c7f7089",
   "metadata": {},
   "outputs": [
    {
     "name": "stdout",
     "output_type": "stream",
     "text": [
      "                    ----------------MATRIX-A--------------------\n",
      "\n"
     ]
    },
    {
     "name": "stdin",
     "output_type": "stream",
     "text": [
      "Enter Number Of Rows of A:  3\n",
      "Enter Number Of Columns of A:  3\n"
     ]
    },
    {
     "name": "stdout",
     "output_type": "stream",
     "text": [
      "Enter row 1\n"
     ]
    },
    {
     "name": "stdin",
     "output_type": "stream",
     "text": [
      " 1\n",
      " 2\n",
      " 3\n"
     ]
    },
    {
     "name": "stdout",
     "output_type": "stream",
     "text": [
      "Enter row 2\n"
     ]
    },
    {
     "name": "stdin",
     "output_type": "stream",
     "text": [
      " 4\n",
      " 5\n",
      " 6\n"
     ]
    },
    {
     "name": "stdout",
     "output_type": "stream",
     "text": [
      "Enter row 3\n"
     ]
    },
    {
     "name": "stdin",
     "output_type": "stream",
     "text": [
      " 7\n",
      " 8\n",
      " 9\n"
     ]
    },
    {
     "name": "stdout",
     "output_type": "stream",
     "text": [
      "                    ----------------MATRIX-B--------------------\n",
      "\n"
     ]
    },
    {
     "name": "stdin",
     "output_type": "stream",
     "text": [
      "Enter Number Of Rows of B:  3\n",
      "Enter Number Of Columns of B:  3\n"
     ]
    },
    {
     "name": "stdout",
     "output_type": "stream",
     "text": [
      "Enter row 1\n"
     ]
    },
    {
     "name": "stdin",
     "output_type": "stream",
     "text": [
      " 1\n",
      " 1\n",
      " 1\n"
     ]
    },
    {
     "name": "stdout",
     "output_type": "stream",
     "text": [
      "Enter row 2\n"
     ]
    },
    {
     "name": "stdin",
     "output_type": "stream",
     "text": [
      " 1\n",
      " 1\n",
      " 1\n"
     ]
    },
    {
     "name": "stdout",
     "output_type": "stream",
     "text": [
      "Enter row 3\n"
     ]
    },
    {
     "name": "stdin",
     "output_type": "stream",
     "text": [
      " 1\n",
      " 1\n",
      " 1\n"
     ]
    },
    {
     "name": "stdout",
     "output_type": "stream",
     "text": [
      "Matrix-A\n",
      "1 2 3 \n",
      "4 5 6 \n",
      "7 8 9 \n",
      "Matrix-B\n",
      "1 1 1 \n",
      "1 1 1 \n",
      "1 1 1 \n",
      "Resultant Matrix\n",
      "6 6 6 \n",
      "15 15 15 \n",
      "24 24 24 \n"
     ]
    }
   ],
   "source": [
    "\"\"\"\n",
    "Question 2\n",
    "Write a program that accepts two matrices A and B as input and returns their product AB.\n",
    "Check if A & B are multipliable; if not, return error message.\n",
    "\"\"\"  \n",
    "def getmatrix_A(rows_A, columns_A):\n",
    "    mainlst_A = []\n",
    "    for i in range(rows_A):\n",
    "        print(f\"Enter row {i + 1}\")\n",
    "        lst1_A = []\n",
    "        for j in range(columns_A):\n",
    "            ele_A = int(input())\n",
    "            lst1_A.append(ele_A)\n",
    "        mainlst_A.append(lst1_A)\n",
    "    return mainlst_A\n",
    "\n",
    "def getmatrix_B(rows_B, columns_B):\n",
    "    mainlst_B = []\n",
    "    for i in range(rows_B):\n",
    "        print(f\"Enter row {i + 1}\")\n",
    "        lst1_B = []\n",
    "        for j in range(columns_B):\n",
    "            ele_B = int(input())\n",
    "            lst1_B.append(ele_B)\n",
    "        mainlst_B.append(lst1_B)\n",
    "    return mainlst_B\n",
    "\n",
    "def mul_A_B(A, B, rows_A, cols_A, cols_B):\n",
    "    result = []\n",
    "    for i in range(rows_A):\n",
    "        result_row = []\n",
    "        for j in range(cols_B):\n",
    "            sum = 0\n",
    "            for k in range(cols_A):\n",
    "                sum += A[i][k] * B[k][j]\n",
    "            result_row.append(sum)\n",
    "        result.append(result_row)\n",
    "    return result\n",
    "\n",
    "# Main      \n",
    "print(\"                    ----------------MATRIX-A--------------------\", end=\"\\n\\n\")\n",
    "rows_A = int(input(\"Enter Number Of Rows of A: \"))\n",
    "columns_A = int(input(\"Enter Number Of Columns of A: \"))\n",
    "mainlst1_A = getmatrix_A(rows_A, columns_A)\n",
    "\n",
    "print(\"                    ----------------MATRIX-B--------------------\", end=\"\\n\\n\")\n",
    "rows_B = int(input(\"Enter Number Of Rows of B: \"))\n",
    "columns_B = int(input(\"Enter Number Of Columns of B: \"))\n",
    "mainlst1_B = getmatrix_B(rows_B, columns_B)\n",
    "\n",
    "print(\"Matrix-A\")\n",
    "for k in range(rows_A):\n",
    "    for l in range(columns_A):\n",
    "        print(mainlst1_A[k][l], end=\" \")\n",
    "    print()\n",
    "\n",
    "print(\"Matrix-B\")\n",
    "for k in range(rows_B):\n",
    "    for l in range(columns_B):\n",
    "        print(mainlst1_B[k][l], end=\" \")\n",
    "    print()\n",
    "if(rows_A==columns_B or columns_A==rows_B):\n",
    "    result = mul_A_B(mainlst1_A, mainlst1_B, rows_A, columns_A, columns_B)\n",
    "    print(\"Resultant Matrix\")\n",
    "    for row in result:\n",
    "        for elem in row:\n",
    "            print(elem, end=\" \")\n",
    "        print()\n",
    "else:\n",
    "    print(\"\\n                Matrix is NOT MULTIPLIABLE\\n\")\n",
    "\n"
   ]
  },
  {
   "cell_type": "code",
   "execution_count": 7,
   "id": "6223b7b6-5b0c-4d44-b99a-4a6c52d9a473",
   "metadata": {},
   "outputs": [
    {
     "name": "stdin",
     "output_type": "stream",
     "text": [
      "Enter the number of elements in the list 1 :: 2\n",
      "Enter the number of elements in the list 2 :: 3\n"
     ]
    },
    {
     "name": "stdout",
     "output_type": "stream",
     "text": [
      "Enter the elements of list 1\n"
     ]
    },
    {
     "name": "stdin",
     "output_type": "stream",
     "text": [
      " 1\n",
      " 2\n"
     ]
    },
    {
     "name": "stdout",
     "output_type": "stream",
     "text": [
      "[1, 2]\n",
      "Enter the elements of list 2\n"
     ]
    },
    {
     "name": "stdin",
     "output_type": "stream",
     "text": [
      " 3\n",
      " 4\n",
      " 5\n"
     ]
    },
    {
     "name": "stdout",
     "output_type": "stream",
     "text": [
      "[3, 4, 5]\n",
      "Orginal list 1 :  [1, 2]\n",
      "Original list 2 :  [3, 4, 5]\n",
      "No Of Common elements :  0\n",
      "Common elements are :  []\n"
     ]
    }
   ],
   "source": [
    "\"\"\"\n",
    "Question 3\n",
    "Write a program to find the number of common elements between two lists. The lists \n",
    "contain integers.\n",
    "\"\"\"  \n",
    "def elements_Of_lst1(n1,n2):\n",
    "    lst1=[]\n",
    "    lst2=[]\n",
    "    print(\"Enter the elements of list 1\")\n",
    "    for i in range(0,n1):\n",
    "        l1ele=input()\n",
    "        lst1.append(l1ele)\n",
    "        #print(lst1)\n",
    "    intlst1=[]\n",
    "    for i in lst1:\n",
    "        intlst1.append(int(i))\n",
    "    print(intlst1)\n",
    "\n",
    "    print(\"Enter the elements of list 2\")\n",
    "    for i in range(0,n2):\n",
    "        l2ele=input()\n",
    "        lst2.append(l2ele)\n",
    "        #print(lst2)\n",
    "    \n",
    "    \n",
    "    intlst2=[]\n",
    "    for i in lst2:\n",
    "        intlst2.append(int(i))\n",
    "    print(intlst2)\n",
    "    \n",
    "    orilst2=[]\n",
    "    for i in intlst2:\n",
    "        orilst2.append(i)\n",
    "        \n",
    "    count=0\n",
    "    commele_lst=[]\n",
    "\n",
    "    for i in intlst1:\n",
    "        for j in intlst2:\n",
    "            if i==j:\n",
    "                count+=1\n",
    "                commele_lst.append(j)\n",
    "                intlst2.remove(j)\n",
    "    return intlst1, orilst2, count, commele_lst\n",
    "\n",
    "#main   \n",
    "n1=int(input(\"Enter the number of elements in the list 1 ::\"))\n",
    "n2=int(input(\"Enter the number of elements in the list 2 ::\"))\n",
    "intlst1, orilst2, count, commele_lst =elements_Of_lst1(n1,n2)\n",
    "print(\"Orginal list 1 : \",intlst1)\n",
    "print(\"Original list 2 : \",orilst2)\n",
    "print(\"No Of Common elements : \",count)\n",
    "print(\"Common elements are : \",commele_lst)         "
   ]
  },
  {
   "cell_type": "code",
   "execution_count": 17,
   "id": "bd59b4ea-2c0a-45ef-b23a-0e9f00ec5cf2",
   "metadata": {},
   "outputs": [
    {
     "name": "stdin",
     "output_type": "stream",
     "text": [
      "Enter Number of Rows:  2\n",
      "Enter Number of Columns:  3\n"
     ]
    },
    {
     "name": "stdout",
     "output_type": "stream",
     "text": [
      "Enter row 1\n"
     ]
    },
    {
     "name": "stdin",
     "output_type": "stream",
     "text": [
      " 1\n",
      " 2\n",
      " 3\n"
     ]
    },
    {
     "name": "stdout",
     "output_type": "stream",
     "text": [
      "Enter row 2\n"
     ]
    },
    {
     "name": "stdin",
     "output_type": "stream",
     "text": [
      " 4\n",
      " 5\n",
      " 6\n"
     ]
    },
    {
     "name": "stdout",
     "output_type": "stream",
     "text": [
      "           Matrix             \n",
      "1 2 3 \n",
      "4 5 6 \n",
      "          Transposed Matrix             \n",
      "1 4 \n",
      "2 5 \n",
      "3 6 \n"
     ]
    }
   ],
   "source": [
    "\"\"\"\n",
    "Question 4\n",
    "Write a program that accepts a matrix as input and returns its transpose\n",
    "\"\"\"  \n",
    "def getmatrix(rows, cols):\n",
    "    mat = []\n",
    "    for i in range(rows):\n",
    "        mat_col = []\n",
    "        print(f\"Enter row {i + 1}\")\n",
    "        for j in range(cols):\n",
    "            ele = int(input())\n",
    "            mat_col.append(ele)\n",
    "        mat.append(mat_col)\n",
    "    return mat\n",
    "\n",
    "def trmatrix(mat, rows, cols):\n",
    "    tr = [[0 for _ in range(rows)] for _ in range(cols)]\n",
    "    for i in range(rows):\n",
    "        for j in range(cols):\n",
    "            tr[j][i] = mat[i][j]\n",
    "    return tr\n",
    "\n",
    "# Main\n",
    "rows = int(input(\"Enter Number of Rows: \"))\n",
    "cols = int(input(\"Enter Number of Columns: \"))\n",
    "mat = getmatrix(rows, cols)\n",
    "\n",
    "print(\"           Matrix             \")\n",
    "for row in mat:\n",
    "    for elem in row:\n",
    "        print(elem, end=\" \")\n",
    "    print()\n",
    "\n",
    "tr = trmatrix(mat, rows, cols)\n",
    "print(\"          Transposed Matrix             \")\n",
    "for row in tr:\n",
    "    for elem in row:\n",
    "        print(elem, end=\" \")\n",
    "    print()\n"
   ]
  }
 ],
 "metadata": {
  "kernelspec": {
   "display_name": "Python 3 (ipykernel)",
   "language": "python",
   "name": "python3"
  },
  "language_info": {
   "codemirror_mode": {
    "name": "ipython",
    "version": 3
   },
   "file_extension": ".py",
   "mimetype": "text/x-python",
   "name": "python",
   "nbconvert_exporter": "python",
   "pygments_lexer": "ipython3",
   "version": "3.12.4"
  }
 },
 "nbformat": 4,
 "nbformat_minor": 5
}
